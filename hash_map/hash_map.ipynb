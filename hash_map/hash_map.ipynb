{
 "cells": [
  {
   "cell_type": "code",
   "execution_count": null,
   "id": "911ac44b",
   "metadata": {},
   "outputs": [],
   "source": [
    "def get_hash(key):\n",
    "    h = 0\n",
    "    for char in key:\n",
    "        h += ord(char)\n",
    "    return h % 100"
   ]
  },
  {
   "cell_type": "code",
   "execution_count": null,
   "id": "33ac7d5b",
   "metadata": {},
   "outputs": [],
   "source": [
    "class HashTable:\n",
    "    def __init__(self):\n",
    "        self.MAX = 10\n",
    "        self.arr = [[] for i in range(self.MAX)]\n",
    "\n",
    "    def get_hash(self, key):\n",
    "        h = 0\n",
    "        for char in key:\n",
    "            h += ord(char)\n",
    "        return h % self.MAX\n",
    "    \n",
    "    # __setitem__, __getitem__, __delitem__ are all python operators\n",
    "    def __setitem__(self, key, val):\n",
    "        h = self.get_hash(key)\n",
    "        found = False\n",
    "        for idx, element in enumerate(self.arr[h]):\n",
    "            if len(element) == 2 and element[0] == key:\n",
    "                self.arr[h][idx] = (key, val)\n",
    "                found = True\n",
    "                break\n",
    "        if not found:\n",
    "            self.arr[h].append((key,val))\n",
    "\n",
    "    def __getitem__(self, key):\n",
    "        h = self.get_hash(key)\n",
    "        for dix, element in enumerate (self.arr[h]):\n",
    "            if element[0] == key:\n",
    "                return element[1]\n",
    "    \n",
    "    def __delitem__(self, key):\n",
    "        h = self.get_hash(key)\n",
    "        for idx, element in enumerate(self.arr[h]):\n",
    "            if element[0] == key:\n",
    "                del self.arr[h][idx]\n",
    "                return"
   ]
  },
  {
   "cell_type": "code",
   "execution_count": null,
   "id": "8ed05d19",
   "metadata": {},
   "outputs": [],
   "source": [
    "t = HashTable()\n",
    "t.get_hash('march 6')\n",
    "# t.add('march 6', 130)\n",
    "t['march 6'] = 130\n",
    "t['march 1'] = 20\n",
    "t['march 17'] = 45\n",
    "t.arr"
   ]
  },
  {
   "cell_type": "markdown",
   "id": "f0691f89",
   "metadata": {},
   "source": [
    "**Chaining:**\n",
    "\n",
    "When in Python we encounter a collision, it means that a key-value pair shares the same hash index as a previously stored key-value pair. For example, in the code above, if we have `t['march 6'] = 310` and later add another item `t['march 17'] = 459`, both `'march 6'` and `'march 17'` might generate the same hash value from our `get_hash()` function. This results in a collision.\n",
    "\n",
    "There are several ways to handle collisions:\n",
    "\n",
    "- **Chaining:**  \n",
    "    Chaining involves using a linked list to store multiple key-value pairs at the same hash index. For instance, in Python's dictionary implementation, if we have:  \n",
    "    ```python\n",
    "    my_dict = {}\n",
    "    my_dict['Spain'] = 'Cordoba'\n",
    "    my_dict['Spain'] = 'Madrid'\n",
    "    ```  \n",
    "    This will overwrite the value for the key `'Spain'`. However, internally, dictionaries handle collisions by storing results in a linked list for that particular hash index. This means inserting data with the same hash index can lead to a time complexity of O(n) in the worst case.\n",
    "\n",
    "- **Linear Probing:**  \n",
    "    Linear probing is another method to handle collisions. Here, if the hash index is already occupied, we traverse the array to find the next available empty space to store the new value. For example, after applying the hash function to the key, if the calculated index is occupied, we move sequentially through the array until we find an empty slot."
   ]
  },
  {
   "cell_type": "code",
   "execution_count": null,
   "id": "16c641c3",
   "metadata": {},
   "outputs": [],
   "source": [
    "t['march 6'] = 120\n",
    "t['march 6'] = 78\n",
    "t['march 8'] = 67\n",
    "t['march 9'] = 4\n",
    "t['march 17'] = 459\n",
    "t.arr\n",
    "\n",
    "t['march 17']\n",
    "del t['march 17']\n",
    "t.arr"
   ]
  }
 ],
 "metadata": {
  "language_info": {
   "name": "python"
  }
 },
 "nbformat": 4,
 "nbformat_minor": 5
}
